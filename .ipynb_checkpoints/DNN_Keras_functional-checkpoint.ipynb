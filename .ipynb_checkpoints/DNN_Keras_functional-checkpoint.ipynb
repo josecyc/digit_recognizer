{
 "cells": [
  {
   "cell_type": "code",
   "execution_count": 16,
   "metadata": {},
   "outputs": [],
   "source": [
    "import pandas as pd\n",
    "import numpy as np\n",
    "import tensorflow as tf\n",
    "from tensorflow.keras import layers"
   ]
  },
  {
   "cell_type": "raw",
   "metadata": {},
   "source": [
    "The functional API was designed to build NN models that are non-sequential, ex: Residual Networks and Siamese networks.\n",
    "It gives more flexibility than the Sequential"
   ]
  },
  {
   "cell_type": "raw",
   "metadata": {},
   "source": [
    "Defining the input.\n",
    "\n",
    "We must define a standalone input layer that specifies the shape of the input data.\n",
    "The input layer takes a 'shape' argument which is a tuple.\n",
    "Whenever data is one-dimensional The shape must explicitly leave room for the shape of the mini-batch size, that is why\n",
    "it is always defined with a comma and no following element, ex: (784,)"
   ]
  },
  {
   "cell_type": "code",
   "execution_count": 15,
   "metadata": {},
   "outputs": [],
   "source": [
    "df_train = pd.read_csv('train.csv')\n",
    "df_test = pd.read_csv('test.csv')"
   ]
  },
  {
   "cell_type": "code",
   "execution_count": 17,
   "metadata": {},
   "outputs": [],
   "source": [
    "def preprocess_data(df_train):\n",
    "    df_train_rand = df_train.reindex(np.random.permutation(df_train.index))\n",
    "    return df_train_rand"
   ]
  },
  {
   "cell_type": "code",
   "execution_count": 18,
   "metadata": {},
   "outputs": [],
   "source": [
    "def preprocess_features(x_train):\n",
    "    #Normalization to greyscale, reduces the effect of illumination's differences\n",
    "    x_train_norm = x_train / 255.0\n",
    "    #Reshaping for keras 28x28x1 3D matrices?\n",
    "    x_train_norm = x_train_norm.values.reshape(-1, 28, 28, 1)\n",
    "    return x_train_norm"
   ]
  },
  {
   "cell_type": "code",
   "execution_count": 19,
   "metadata": {},
   "outputs": [],
   "source": [
    "def preprocess_targets(y_train):\n",
    "    #Encode labels to one hot vecs\n",
    "    y_train_hot = tf.keras.utils.to_categorical(y_train, num_classes=10)\n",
    "    return y_train_hot"
   ]
  },
  {
   "cell_type": "code",
   "execution_count": 20,
   "metadata": {},
   "outputs": [],
   "source": [
    "df_train_rand = preprocess_data(df_train)\n",
    "X_train = preprocess_features(df_train_rand.drop(labels = ['label'], axis = 1).head(38000).copy())\n",
    "X_val = preprocess_features(df_train_rand.drop(labels = ['label'], axis = 1).tail(6000).copy())\n",
    "Y_train = preprocess_targets(df_train_rand['label'].head(38000).copy())\n",
    "Y_val = preprocess_targets(df_train_rand['label'].tail(6000).copy())"
   ]
  },
  {
   "cell_type": "code",
   "execution_count": 21,
   "metadata": {},
   "outputs": [],
   "source": [
    "visible = tf.keras.layers.Input(shape=(28,28,1))"
   ]
  },
  {
   "cell_type": "raw",
   "metadata": {},
   "source": [
    "Connecting layers\n",
    "The layers are by specifying with parenthesis the layer to which it connects when assigning"
   ]
  },
  {
   "cell_type": "code",
   "execution_count": 28,
   "metadata": {},
   "outputs": [],
   "source": [
    "conv1 = tf.keras.layers.Conv2D(32, kernel_size=(5,5), padding='Same', activation='relu')(visible)\n",
    "conv2 = tf.keras.layers.Conv2D(32, kernel_size=(5,5), padding='Same', activation='relu')(conv1)\n",
    "pool1 = tf.keras.layers.MaxPool2D(pool_size=(2,2), strides=(2,2))(conv2)\n",
    "dropout1 = tf.keras.layers.Dropout(0.25)(pool1)\n",
    "conv3 = tf.keras.layers.Conv2D(64, kernel_size=(3,3), padding='Same', activation='relu')(dropout1)\n",
    "conv4 = tf.keras.layers.Conv2D(64, kernel_size=(3,3), padding='Same', activation='relu')(conv3)\n",
    "pool2 = tf.keras.layers.MaxPool2D(pool_size=(2,2), strides=(2,2))(conv4)\n",
    "dropout2 = tf.keras.layers.Dropout(0.25)(pool2)\n",
    "flatten = tf.keras.layers.Flatten()(dropout2)\n",
    "dense1 = tf.keras.layers.Dense(245, activation='relu')(flatten)\n",
    "dropout3 = tf.keras.layers.Dropout(0.25)(dense1)\n",
    "output_dense = tf.keras.layers.Dense(10, activation='softmax')(dropout3)"
   ]
  },
  {
   "cell_type": "raw",
   "metadata": {},
   "source": [
    "After creating all layers and connecting them we must define the model.\n",
    "Keras provides a 'Model' classs that we can use to create a model from our layers.\n",
    "Requires: Input and output layers"
   ]
  },
  {
   "cell_type": "code",
   "execution_count": 29,
   "metadata": {},
   "outputs": [],
   "source": [
    "model = tf.keras.Model(inputs=visible, outputs=output_dense)"
   ]
  },
  {
   "cell_type": "code",
   "execution_count": null,
   "metadata": {},
   "outputs": [],
   "source": []
  }
 ],
 "metadata": {
  "kernelspec": {
   "display_name": "Python 3",
   "language": "python",
   "name": "python3"
  },
  "language_info": {
   "codemirror_mode": {
    "name": "ipython",
    "version": 3
   },
   "file_extension": ".py",
   "mimetype": "text/x-python",
   "name": "python",
   "nbconvert_exporter": "python",
   "pygments_lexer": "ipython3",
   "version": "3.7.0"
  }
 },
 "nbformat": 4,
 "nbformat_minor": 2
}
