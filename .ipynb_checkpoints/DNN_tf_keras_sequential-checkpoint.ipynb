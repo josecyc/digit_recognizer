{
 "cells": [
  {
   "cell_type": "code",
   "execution_count": 13,
   "metadata": {},
   "outputs": [
    {
     "name": "stdout",
     "output_type": "stream",
     "text": [
      "1.13.0-rc2\n",
      "2.2.4-tf\n"
     ]
    }
   ],
   "source": [
    "import numpy as np\n",
    "import tensorflow as tf\n",
    "import pandas as pd\n",
    "from matplotlib import pyplot as plt\n",
    "%matplotlib inline\n",
    "import seaborn as sns\n",
    "from sklearn import metrics\n",
    "from IPython import display\n",
    "from tensorflow.python.data import Dataset\n",
    "import math\n",
    "tf.logging.set_verbosity(tf.logging.ERROR)\n",
    "from scipy.stats import norm\n",
    "from sklearn.preprocessing import StandardScaler\n",
    "from scipy import stats\n",
    "import warnings\n",
    "import pandas_profiling\n",
    "from time import gmtime, strftime\n",
    "warnings.filterwarnings('ignore')\n",
    "%matplotlib inline\n",
    "\n",
    "import tensorflow as tf\n",
    "from tensorflow.keras import layers\n",
    "\n",
    "print(tf.VERSION)\n",
    "print(tf.keras.__version__)"
   ]
  },
  {
   "cell_type": "raw",
   "metadata": {},
   "source": [
    "1) EDA on separate notebook\n",
    "2) Data Processing\n",
    "   2.1) Load data\n",
    "   2.2) Check for null and missing values \n",
    "   2.3) Normalization\n",
    "   2.4) Reshape\n",
    "   2.5) Label encoding\n",
    "   2.6) Split training and validation datasets\n",
    "3) DNN custom Estimator API\n",
    "4) CNN sequential Keras API\n",
    "5) CNN functional Keras API"
   ]
  },
  {
   "cell_type": "markdown",
   "metadata": {},
   "source": [
    "#### 1) Custom DNN regressor with estimator\n",
    "#### 2) CNN sequential Keras API\n",
    "#### 3) CNN functional Keras API"
   ]
  },
  {
   "cell_type": "markdown",
   "metadata": {},
   "source": [
    "# 2) Data Processing"
   ]
  },
  {
   "cell_type": "code",
   "execution_count": 2,
   "metadata": {},
   "outputs": [],
   "source": [
    "df_train = pd.read_csv('train.csv')\n",
    "df_test = pd.read_csv('test.csv')"
   ]
  },
  {
   "cell_type": "code",
   "execution_count": 3,
   "metadata": {},
   "outputs": [],
   "source": [
    "def preprocess_data(df_train):\n",
    "    df_train_rand = df_train.reindex(np.random.permutation(df_train.index))\n",
    "    return df_train_rand"
   ]
  },
  {
   "cell_type": "code",
   "execution_count": 4,
   "metadata": {},
   "outputs": [],
   "source": [
    "def preprocess_features(x_train):\n",
    "    #Normalization to greyscale, reduces the effect of illumination's differences\n",
    "    x_train_norm = x_train / 255.0\n",
    "    #Reshaping for keras 28x28x1 3D matrices?\n",
    "    x_train_norm = x_train_norm.values.reshape(-1, 28, 28, 1)\n",
    "    return x_train_norm"
   ]
  },
  {
   "cell_type": "code",
   "execution_count": 5,
   "metadata": {},
   "outputs": [],
   "source": [
    "def preprocess_targets(y_train):\n",
    "    #Encode labels to one hot vecs\n",
    "    y_train_hot = to_categorical(y_train, num_classes=10)\n",
    "    return y_train_hot"
   ]
  },
  {
   "cell_type": "code",
   "execution_count": 6,
   "metadata": {},
   "outputs": [],
   "source": [
    "df_train_rand = preprocess_data(df_train)\n",
    "X_train = preprocess_features(df_train_rand.drop(labels = ['label'], axis = 1).head(38000).copy())\n",
    "X_val = preprocess_features(df_train_rand.drop(labels = ['label'], axis = 1).tail(6000).copy())\n",
    "Y_train = preprocess_targets(df_train_rand['label'].head(38000).copy())\n",
    "Y_val = preprocess_targets(df_train_rand['label'].tail(6000).copy())"
   ]
  },
  {
   "cell_type": "code",
   "execution_count": 7,
   "metadata": {},
   "outputs": [
    {
     "data": {
      "image/png": "[encoded data removed]",
      "text/plain": [
       "<Figure size 432x288 with 1 Axes>"
      ]
     },
     "metadata": {
      "needs_background": "light"
     },
     "output_type": "display_data"
    }
   ],
   "source": [
    "g = plt.imshow(X_train[0][:,:,0])"
   ]
  },
  {
   "cell_type": "markdown",
   "metadata": {},
   "source": [
    "Filters are transformations of the image.\n",
    "Filters' size is defined by kernel size\n"
   ]
  },
  {
   "cell_type": "raw",
   "metadata": {},
   "source": [
    "4) CNN Sequential\n",
    "4.1 ) Sequential workflow:\n",
    "    a) Define data structure/class i.e. Sequential or Functional\n",
    "    b) Add layers, specify input shape in first one\n",
    "    c) Define optimizer\n",
    "    d) Define loss\n",
    "    e) Compile with optimizer, loss and metrics\n",
    "\n",
    "4.2 ) Defining the model\n",
    "In the Keras Sequential API you just have to add one layer at a time, starting from the input layer.\n",
    "\n",
    "The Sequential model is the simplest core data structure in Keras, it is a linear stack of layers.\n",
    "\n",
    "The first is the convolutional (2D) layer.\n",
    "32 filters for the first 2 layers and 64 for the last 2 ones.\n",
    "Each filter transforms a part of the image and the resulting transformation is called an activation map.\n",
    "\n",
    "Second important layer in the CNN is the pooling layer. This acts as a downsampling. Maxpooling looks at neighbors and simply picks maximum value. \n",
    "Pooling reduces computational cost and to some extent overfitting? But it also reduces information/resolution.\n",
    "\n",
    "Combining convolutional and pooling layers, CNNs are able to combine local features and learn global features of the image.\n",
    "\n",
    "The flatten layer is used to convert the final feature maps into a single 1D vector. This flattening is needed for the fully connected layer."
   ]
  },
  {
   "cell_type": "code",
   "execution_count": 14,
   "metadata": {},
   "outputs": [],
   "source": [
    "#Architecture:\n",
    "#[[Conv2D->reulu]*2] -> MaxPool2D -> Dropout]*2 -> Flatten -> Dense -> Dropout -> Softmax\n",
    " \n",
    "model = tf.keras.Sequential()\n",
    "\n",
    "model.add(layers.Conv2D(filters = 32,\n",
    "                 kernel_size = (5,5),\n",
    "                 padding = 'Same',\n",
    "                 activation = 'relu',\n",
    "                 input_shape = (28, 28, 1)))\n",
    "#The model needs to know what input shape it should expect, the following layer can do automatic shape inference\n",
    "# by counting the previous layers output shape? yes, we already have that number\n",
    "# 2D layers such as dense support input_dim instead of input_shape\n",
    "model.add(layers.Conv2D(filters = 32,\n",
    "                 kernel_size = (5,5),\n",
    "                 padding = 'Same',\n",
    "                 activation = 'relu'))\n",
    "\n",
    "model.add(layers.MaxPool2D(pool_size=(2,2),\n",
    "                   strides=(2,2)))\n",
    "# it is typical to not have overlap during pooling, I intuit it is in order to reduce noise and duplication\n",
    "\n",
    "model.add(layers.Dropout(0.25))\n",
    "\n",
    "model.add(layers.Conv2D(filters = 64,\n",
    "                kernel_size = (3,3),\n",
    "                padding = 'Same',\n",
    "                activation = 'relu'))\n",
    "model.add(layers.Conv2D(filters = 64,\n",
    "                kernel_size = (3,3),\n",
    "                padding = 'Same',\n",
    "                activation = 'relu'))\n",
    "\n",
    "model.add(layers.MaxPool2D(pool_size=(2,2),\n",
    "                    strides=(2,2)))\n",
    "\n",
    "\n",
    "model.add(layers.Dropout(0.25))\n",
    "\n",
    "model.add(layers.Flatten())\n",
    "model.add(layers.Dense(245, activation = 'relu'))\n",
    "\n",
    "model.add(layers.Dropout(0.5))\n",
    "model.add(layers.Dense(10, activation = 'softmax'))"
   ]
  },
  {
   "cell_type": "raw",
   "metadata": {},
   "source": [
    "4.2) Setting the optimizer, loss function + learning rate reductioner\n",
    "Once we have our layers we now need to set up a loss function in order to do an optimization algorithm (backprop, etc)\n",
    "Our loss function is a measurement of the distance between our prediction and our known labels.\n",
    "\n",
    "Optimizers: \n",
    "    a) RMSprop is an effective optimizer, it adjusts the Adagrad method(?) monotonically decreasing the learning rate.\n",
    "    b) SGD ('Stochastic Gradient Descent') optimizer is also good but it is slower than RMSprop. I guess because\n",
    "    of the static learning rate\n",
    "    \n",
    "    Metric function 'accuracy' is used to evaluate performance."
   ]
  },
  {
   "cell_type": "raw",
   "metadata": {},
   "source": [
    "# Optimizer, required for compiling a Keras model\n",
    "optimizer = RMSprop(lr = 0.001, rho = 0.9, epsilon = None, decay = 0.0)"
   ]
  },
  {
   "cell_type": "code",
   "execution_count": 19,
   "metadata": {},
   "outputs": [],
   "source": [
    "# Optimizer, required for compiling a Keras model\n",
    "optimizer = tf.train.AdamOptimizer(learning_rate = 0.001,\n",
    "                                   beta1 = 0.9,\n",
    "                                   beta2 = 0.999,\n",
    "                                   epsilon = 1e-08,\n",
    "                                   use_locking = False,\n",
    "                                  name = 'Adam')"
   ]
  },
  {
   "cell_type": "code",
   "execution_count": 20,
   "metadata": {},
   "outputs": [],
   "source": [
    "# optimizer = Adam(lr = 0.001, beta_1 = 0.9, beta_2 = 0.999, epsilon = None, decay = 0.0, amsgrad = False)"
   ]
  },
  {
   "cell_type": "code",
   "execution_count": 21,
   "metadata": {},
   "outputs": [],
   "source": [
    "# Compiling\n",
    "model.compile(optimizer = optimizer, loss = 'categorical_crossentropy', metrics = ['accuracy'])"
   ]
  },
  {
   "cell_type": "code",
   "execution_count": 22,
   "metadata": {},
   "outputs": [],
   "source": [
    "# Learning rate reduction\n",
    "# Keras has a list of callback functions which we can use to apply at different stages of training.\n",
    "# We can pass the as the keyword argument 'callbacks' to the .fit() method of Sequential or Model classes\n",
    "# Models often benefit from reducing the learning rate by a factor of 2-10 once learning stagnates. \n",
    "# This callback monitors a quantity and if no improvement is seen for a 'patience' number of epochs, \n",
    "# the learning rate is reduced.\n",
    "learning_rate_reduction = ReduceLROnPlateau(monitor = 'val_acc',\n",
    "                                           patience = 3,\n",
    "                                           verbose = 1,\n",
    "                                           factore = 0.5,\n",
    "                                           min_lr = 0.00001)"
   ]
  },
  {
   "cell_type": "code",
   "execution_count": 23,
   "metadata": {},
   "outputs": [],
   "source": [
    "epochs = 10\n",
    "batch_size = 80"
   ]
  },
  {
   "cell_type": "raw",
   "metadata": {},
   "source": [
    "4.3) Data augmentation:\n",
    "This technique involves artificially expanding our dataset in order to reproduce possible different variations that\n",
    "occur when someone is writing a digit.\n",
    "Examples:\n",
    "    1) The number is not centered\n",
    "    2) The scale is not the same\n",
    "    3) The image is rotated\n",
    "    4) Horizontal flips\n",
    "    5) Vertical flips\n",
    "    6) Random crops\n",
    "    7) Color jitters\n",
    "    8) Rotations\n",
    "    9) Translations"
   ]
  },
  {
   "cell_type": "code",
   "execution_count": 24,
   "metadata": {},
   "outputs": [],
   "source": [
    "# Data augmentation\n"
   ]
  },
  {
   "cell_type": "code",
   "execution_count": 56,
   "metadata": {},
   "outputs": [
    {
     "name": "stdout",
     "output_type": "stream",
     "text": [
      "Train on 38000 samples, validate on 6000 samples\n",
      "Epoch 1/10\n",
      " - 151s - loss: 0.2303 - acc: 0.9267 - val_loss: 0.0551 - val_acc: 0.9837\n",
      "Epoch 2/10\n",
      " - 146s - loss: 0.0744 - acc: 0.9778 - val_loss: 0.0368 - val_acc: 0.9880\n",
      "Epoch 3/10\n",
      " - 148s - loss: 0.0583 - acc: 0.9831 - val_loss: 0.0281 - val_acc: 0.9898\n",
      "Epoch 4/10\n",
      " - 148s - loss: 0.0483 - acc: 0.9861 - val_loss: 0.0276 - val_acc: 0.9912\n",
      "Epoch 5/10\n",
      " - 147s - loss: 0.0411 - acc: 0.9875 - val_loss: 0.0258 - val_acc: 0.9907\n",
      "Epoch 6/10\n",
      " - 146s - loss: 0.0368 - acc: 0.9894 - val_loss: 0.0242 - val_acc: 0.9927\n",
      "Epoch 7/10\n",
      " - 147s - loss: 0.0348 - acc: 0.9898 - val_loss: 0.0160 - val_acc: 0.9947\n",
      "Epoch 8/10\n",
      " - 151s - loss: 0.0336 - acc: 0.9901 - val_loss: 0.0199 - val_acc: 0.9933\n",
      "Epoch 9/10\n",
      " - 147s - loss: 0.0311 - acc: 0.9912 - val_loss: 0.0244 - val_acc: 0.9932\n",
      "Epoch 10/10\n",
      " - 148s - loss: 0.0315 - acc: 0.9911 - val_loss: 0.0253 - val_acc: 0.9923\n"
     ]
    }
   ],
   "source": [
    "# Fit, returns a History object, its history attribute is a record of training loss values and metrics values at \n",
    "# sequential epochs, as well as validation loss values and validation metrics values\n",
    "history = model.fit(X_train,\n",
    "                    Y_train,\n",
    "                    batch_size = batch_size,\n",
    "                    epochs = epochs,\n",
    "                    validation_data = (X_val, Y_val),\n",
    "                    verbose = 2)"
   ]
  },
  {
   "cell_type": "code",
   "execution_count": null,
   "metadata": {},
   "outputs": [],
   "source": []
  }
 ],
 "metadata": {
  "kernelspec": {
   "display_name": "Python 3",
   "language": "python",
   "name": "python3"
  },
  "language_info": {
   "codemirror_mode": {
    "name": "ipython",
    "version": 3
   },
   "file_extension": ".py",
   "mimetype": "text/x-python",
   "name": "python",
   "nbconvert_exporter": "python",
   "pygments_lexer": "ipython3",
   "version": "3.7.0"
  }
 },
 "nbformat": 4,
 "nbformat_minor": 2
}
